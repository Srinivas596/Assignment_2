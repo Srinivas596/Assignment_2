{
 "cells": [
  {
   "cell_type": "markdown",
   "id": "04f09f7a-101b-4482-a7e1-cc4804a9c5c2",
   "metadata": {},
   "source": [
    "## Part 1 --- Basic Exploration"
   ]
  },
  {
   "cell_type": "code",
   "execution_count": 2,
   "id": "9a28f812-d384-46db-9d6d-23aa9388e87c",
   "metadata": {},
   "outputs": [],
   "source": [
    "import pandas as pd\n",
    "# Loading dataset into Pandas Dataframe\n",
    "sales_df = pd.read_csv(\"C:/Users/kommu/Downloads/datasets-main/datasets-main/store_sales (1).csv\")"
   ]
  },
  {
   "cell_type": "code",
   "execution_count": 3,
   "id": "933837a0-1b1a-4219-be92-27fae9d6780d",
   "metadata": {},
   "outputs": [
    {
     "data": {
      "text/html": [
       "<div>\n",
       "<style scoped>\n",
       "    .dataframe tbody tr th:only-of-type {\n",
       "        vertical-align: middle;\n",
       "    }\n",
       "\n",
       "    .dataframe tbody tr th {\n",
       "        vertical-align: top;\n",
       "    }\n",
       "\n",
       "    .dataframe thead th {\n",
       "        text-align: right;\n",
       "    }\n",
       "</style>\n",
       "<table border=\"1\" class=\"dataframe\">\n",
       "  <thead>\n",
       "    <tr style=\"text-align: right;\">\n",
       "      <th></th>\n",
       "      <th>store_id</th>\n",
       "      <th>city</th>\n",
       "      <th>Jan</th>\n",
       "      <th>Feb</th>\n",
       "      <th>Mar</th>\n",
       "      <th>Apr</th>\n",
       "      <th>May</th>\n",
       "      <th>Jun</th>\n",
       "      <th>July</th>\n",
       "      <th>Aug</th>\n",
       "      <th>Sep</th>\n",
       "      <th>Oct</th>\n",
       "      <th>Nov</th>\n",
       "      <th>Dec</th>\n",
       "    </tr>\n",
       "  </thead>\n",
       "  <tbody>\n",
       "    <tr>\n",
       "      <th>95</th>\n",
       "      <td>S_96</td>\n",
       "      <td>Texas</td>\n",
       "      <td>7</td>\n",
       "      <td>10</td>\n",
       "      <td>20</td>\n",
       "      <td>20</td>\n",
       "      <td>10</td>\n",
       "      <td>15</td>\n",
       "      <td>15</td>\n",
       "      <td>21</td>\n",
       "      <td>15</td>\n",
       "      <td>7</td>\n",
       "      <td>23</td>\n",
       "      <td>22</td>\n",
       "    </tr>\n",
       "    <tr>\n",
       "      <th>96</th>\n",
       "      <td>S_97</td>\n",
       "      <td>California</td>\n",
       "      <td>13</td>\n",
       "      <td>6</td>\n",
       "      <td>7</td>\n",
       "      <td>15</td>\n",
       "      <td>22</td>\n",
       "      <td>10</td>\n",
       "      <td>21</td>\n",
       "      <td>23</td>\n",
       "      <td>10</td>\n",
       "      <td>6</td>\n",
       "      <td>12</td>\n",
       "      <td>9</td>\n",
       "    </tr>\n",
       "    <tr>\n",
       "      <th>97</th>\n",
       "      <td>S_98</td>\n",
       "      <td>Texas</td>\n",
       "      <td>16</td>\n",
       "      <td>9</td>\n",
       "      <td>6</td>\n",
       "      <td>14</td>\n",
       "      <td>20</td>\n",
       "      <td>13</td>\n",
       "      <td>11</td>\n",
       "      <td>10</td>\n",
       "      <td>8</td>\n",
       "      <td>22</td>\n",
       "      <td>17</td>\n",
       "      <td>22</td>\n",
       "    </tr>\n",
       "    <tr>\n",
       "      <th>98</th>\n",
       "      <td>S_99</td>\n",
       "      <td>Arizona</td>\n",
       "      <td>18</td>\n",
       "      <td>16</td>\n",
       "      <td>9</td>\n",
       "      <td>5</td>\n",
       "      <td>12</td>\n",
       "      <td>22</td>\n",
       "      <td>11</td>\n",
       "      <td>13</td>\n",
       "      <td>21</td>\n",
       "      <td>17</td>\n",
       "      <td>19</td>\n",
       "      <td>10</td>\n",
       "    </tr>\n",
       "    <tr>\n",
       "      <th>99</th>\n",
       "      <td>S_100</td>\n",
       "      <td>California</td>\n",
       "      <td>5</td>\n",
       "      <td>23</td>\n",
       "      <td>17</td>\n",
       "      <td>24</td>\n",
       "      <td>15</td>\n",
       "      <td>21</td>\n",
       "      <td>19</td>\n",
       "      <td>10</td>\n",
       "      <td>12</td>\n",
       "      <td>20</td>\n",
       "      <td>5</td>\n",
       "      <td>9</td>\n",
       "    </tr>\n",
       "  </tbody>\n",
       "</table>\n",
       "</div>"
      ],
      "text/plain": [
       "   store_id        city  Jan  Feb  Mar  Apr  May  Jun  July  Aug  Sep  Oct  \\\n",
       "95     S_96       Texas    7   10   20   20   10   15    15   21   15    7   \n",
       "96     S_97  California   13    6    7   15   22   10    21   23   10    6   \n",
       "97     S_98       Texas   16    9    6   14   20   13    11   10    8   22   \n",
       "98     S_99     Arizona   18   16    9    5   12   22    11   13   21   17   \n",
       "99    S_100  California    5   23   17   24   15   21    19   10   12   20   \n",
       "\n",
       "    Nov  Dec  \n",
       "95   23   22  \n",
       "96   12    9  \n",
       "97   17   22  \n",
       "98   19   10  \n",
       "99    5    9  "
      ]
     },
     "execution_count": 3,
     "metadata": {},
     "output_type": "execute_result"
    }
   ],
   "source": [
    "# displaying the first and last 5 rows\n",
    "sales_df.head()  \n",
    "sales_df.tail()"
   ]
  },
  {
   "cell_type": "code",
   "execution_count": 4,
   "id": "b6902a44-df67-4b79-8bca-0dff61a70c29",
   "metadata": {},
   "outputs": [
    {
     "name": "stdout",
     "output_type": "stream",
     "text": [
      "Shape: (100, 14)\n",
      "Data types and info:\n",
      "<class 'pandas.core.frame.DataFrame'>\n",
      "RangeIndex: 100 entries, 0 to 99\n",
      "Data columns (total 14 columns):\n",
      " #   Column    Non-Null Count  Dtype \n",
      "---  ------    --------------  ----- \n",
      " 0   store_id  100 non-null    object\n",
      " 1   city      100 non-null    object\n",
      " 2   Jan       100 non-null    int64 \n",
      " 3   Feb       100 non-null    int64 \n",
      " 4   Mar       100 non-null    int64 \n",
      " 5   Apr       100 non-null    int64 \n",
      " 6   May       100 non-null    int64 \n",
      " 7   Jun       100 non-null    int64 \n",
      " 8   July      100 non-null    int64 \n",
      " 9   Aug       100 non-null    int64 \n",
      " 10  Sep       100 non-null    int64 \n",
      " 11  Oct       100 non-null    int64 \n",
      " 12  Nov       100 non-null    int64 \n",
      " 13  Dec       100 non-null    int64 \n",
      "dtypes: int64(12), object(2)\n",
      "memory usage: 11.1+ KB\n",
      "None\n"
     ]
    }
   ],
   "source": [
    "# Checking Shape, data types, non-null counts\n",
    "print(\"Shape:\", sales_df.shape)\n",
    "print(\"Data types and info:\")\n",
    "print(sales_df.info())"
   ]
  },
  {
   "cell_type": "code",
   "execution_count": 5,
   "id": "257ae9a1-dfaa-4db7-b98c-f4665e60d0ba",
   "metadata": {},
   "outputs": [
    {
     "name": "stdout",
     "output_type": "stream",
     "text": [
      "Columns: Index(['store_id', 'city', 'Jan', 'Feb', 'Mar', 'Apr', 'May', 'Jun', 'July',\n",
      "       'Aug', 'Sep', 'Oct', 'Nov', 'Dec'],\n",
      "      dtype='object')\n",
      "Summary statistics:\n",
      "               Jan         Feb         Mar         Apr         May         Jun  \\\n",
      "count  100.000000  100.000000  100.000000  100.000000  100.000000  100.000000   \n",
      "mean    14.460000   15.090000   14.560000   14.570000   13.560000   13.800000   \n",
      "std      5.712683    6.055459    5.782803    4.965039    5.883241    5.962848   \n",
      "min      5.000000    5.000000    5.000000    5.000000    5.000000    5.000000   \n",
      "25%     10.000000    9.000000    9.750000   11.000000    8.000000    9.000000   \n",
      "50%     15.000000   16.000000   15.000000   14.500000   13.000000   13.500000   \n",
      "75%     19.000000   21.000000   19.250000   19.000000   19.000000   19.000000   \n",
      "max     24.000000   24.000000   24.000000   24.000000   24.000000   24.000000   \n",
      "\n",
      "             July         Aug         Sep        Oct         Nov         Dec  \n",
      "count  100.000000  100.000000  100.000000  100.00000  100.000000  100.000000  \n",
      "mean    14.380000   15.810000   14.910000   14.10000   15.310000   13.570000  \n",
      "std      5.566458    6.152432    5.284043    5.87496    6.461533    5.852143  \n",
      "min      5.000000    5.000000    5.000000    5.00000    5.000000    5.000000  \n",
      "25%     10.000000   11.000000   11.000000    9.00000   10.000000    8.000000  \n",
      "50%     15.000000   17.000000   14.500000   14.00000   16.000000   13.000000  \n",
      "75%     19.000000   21.000000   19.000000   19.00000   21.250000   19.000000  \n",
      "max     24.000000   24.000000   24.000000   24.00000   24.000000   24.000000  \n"
     ]
    }
   ],
   "source": [
    "# Printing Column names and summary statistics\n",
    "print(\"Columns:\", sales_df.columns)\n",
    "print(\"Summary statistics:\\n\", sales_df.describe())"
   ]
  },
  {
   "cell_type": "code",
   "execution_count": 6,
   "id": "dd64b9d7-2c1a-4921-a3ae-83312d87d493",
   "metadata": {},
   "outputs": [
    {
     "name": "stdout",
     "output_type": "stream",
     "text": [
      "Total sales per month:\n",
      " Jan    1446\n",
      "Feb    1509\n",
      "Mar    1456\n",
      "Apr    1457\n",
      "dtype: int64\n",
      "Average sales per month:\n",
      " Jan    14.46\n",
      "Feb    15.09\n",
      "Mar    14.56\n",
      "Apr    14.57\n",
      "dtype: float64\n"
     ]
    }
   ],
   "source": [
    "# Finding Total and average sales per month\n",
    "months = ['Jan','Feb','Mar','Apr']\n",
    "print(\"Total sales per month:\\n\", sales_df[months].sum())\n",
    "print(\"Average sales per month:\\n\", sales_df[months].mean())"
   ]
  },
  {
   "cell_type": "code",
   "execution_count": 7,
   "id": "7fb6f790-6cdf-498a-96b8-f979afb4efb1",
   "metadata": {},
   "outputs": [
    {
     "name": "stdout",
     "output_type": "stream",
     "text": [
      "Total yearly sales for all stores: 5868\n"
     ]
    }
   ],
   "source": [
    "# Calculating Total yearly sales for all stores\n",
    "sales_df['Total_Yearly_Sales'] = sales_df[months].sum(axis=1)\n",
    "print(\"Total yearly sales for all stores:\", sales_df['Total_Yearly_Sales'].sum())"
   ]
  },
  {
   "cell_type": "code",
   "execution_count": null,
   "id": "d3cc3106-c46e-4611-9249-ce2082cee4b9",
   "metadata": {},
   "outputs": [],
   "source": []
  }
 ],
 "metadata": {
  "kernelspec": {
   "display_name": "Python [conda env:base] *",
   "language": "python",
   "name": "conda-base-py"
  },
  "language_info": {
   "codemirror_mode": {
    "name": "ipython",
    "version": 3
   },
   "file_extension": ".py",
   "mimetype": "text/x-python",
   "name": "python",
   "nbconvert_exporter": "python",
   "pygments_lexer": "ipython3",
   "version": "3.13.5"
  }
 },
 "nbformat": 4,
 "nbformat_minor": 5
}
